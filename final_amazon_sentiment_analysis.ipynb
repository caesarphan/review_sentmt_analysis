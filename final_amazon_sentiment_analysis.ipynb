{
 "cells": [
  {
   "cell_type": "code",
   "execution_count": 1,
   "metadata": {},
   "outputs": [],
   "source": [
    "import pandas as pd\n",
    "import numpy as np\n",
    "import random\n",
    "import contractions\n",
    "import re\n",
    "import bz2\n",
    "import matplotlib.pyplot as plt\n",
    "import seaborn as sns\n",
    "import joblib\n",
    "\n",
    "import string\n",
    "from string import punctuation\n",
    "\n",
    "import nltk\n",
    "from nltk.tokenize import word_tokenize, sent_tokenize\n",
    "from nltk import pos_tag\n",
    "from nltk.stem import WordNetLemmatizer\n",
    "from nltk.corpus import stopwords, wordnet\n",
    "\n",
    "\n",
    "from sklearn.pipeline import Pipeline\n",
    "from sklearn.model_selection import GridSearchCV\n",
    "from sklearn.model_selection import train_test_split, KFold, cross_val_score\n",
    "from sklearn.pipeline import Pipeline\n",
    "from sklearn.feature_extraction.text import CountVectorizer, TfidfVectorizer\n",
    "from sklearn.naive_bayes import BernoulliNB\n",
    "from sklearn.linear_model import LinearRegression, LogisticRegression\n",
    "from sklearn.metrics import confusion_matrix, f1_score, classification_report\n",
    "from sklearn import metrics"
   ]
  },
  {
   "cell_type": "markdown",
   "metadata": {},
   "source": [
    "# Import and ramdomly samle\n",
    "***"
   ]
  },
  {
   "cell_type": "markdown",
   "metadata": {},
   "source": [
    "### import data and store in object"
   ]
  },
  {
   "cell_type": "code",
   "execution_count": 2,
   "metadata": {},
   "outputs": [],
   "source": [
    "#windows\n",
    "data_train = bz2.BZ2File('C:/Users/caesa/Documents/projects/amzn_reviews/train.ft.txt.bz2')\n",
    "data_test = bz2.BZ2File('C:/Users/caesa/Documents/projects/amzn_reviews/test.ft.txt.bz2')\n",
    "\n",
    "# #macOS\n",
    "# data_train = bz2.BZ2File('/Users/caesarphan/Documents/projects/amazon_reviews/train.ft.txt.bz2')\n",
    "# data_test = bz2.BZ2File('/Users/caesarphan/Documents/projects/amazon_reviews/test.ft.txt.bz2')\n",
    "\n",
    "\n",
    "data_train = [x.decode('utf-8') for x in data_train]\n",
    "data_test = [x.decode('utf-8') for x in data_test]\n"
   ]
  },
  {
   "cell_type": "code",
   "execution_count": 3,
   "metadata": {},
   "outputs": [
    {
     "name": "stdout",
     "output_type": "stream",
     "text": [
      "Train model using 1/40th of dataset.\n",
      "\n",
      "train first 3 reviews: a different view of blink 182: if you bought this cd after buying enema of the state, like i did, youll be suprised at how much they have changed. this cd has great songs and gives you another side of blink-182. i like it.\n",
      "\n",
      "test first 3 reviews: a different view of blink 182: if you bought this cd after buying enema of the state, like i did, youll be suprised at how much they have changed. this cd has great songs and gives you another side of blink-182. i like it.\n"
     ]
    }
   ],
   "source": [
    "rand_seed = random.seed(123)\n",
    "\n",
    "#Do not use entire dataset. there are 3.6M observations. Use only a fraction for analysis\n",
    "sampling_ratio = 40\n",
    "\n",
    "size_train = (len(data_train)/sampling_ratio)\n",
    "size_test = (len(data_test)/sampling_ratio)\n",
    "\n",
    "sample_train = random.sample(data_train, int(size_train))\n",
    "sample_test = random.sample(data_test, int(size_test))\n",
    "\n",
    "#normalize all words to lowercase\n",
    "train_sent = [x.split(' ', 1)[1][:-1].lower() for x in sample_train]\n",
    "test_sent = [x.split(' ', 1)[1][:-1].lower() for x in sample_test]\n",
    "\n",
    "print(\"Train model using 1/{}th of dataset.\".format(sampling_ratio))\n",
    "print()\n",
    "print('train first 3 reviews:', train_sent[0])\n",
    "print()\n",
    "print('test first 3 reviews:', test_sent[0])"
   ]
  },
  {
   "cell_type": "code",
   "execution_count": 26,
   "metadata": {},
   "outputs": [
    {
     "name": "stdout",
     "output_type": "stream",
     "text": [
      "90000\n",
      "10000\n"
     ]
    }
   ],
   "source": [
    "print(len(train_sent))\n",
    "print(len(test_sent))"
   ]
  },
  {
   "cell_type": "markdown",
   "metadata": {},
   "source": [
    "### Histogram of training data"
   ]
  },
  {
   "cell_type": "code",
   "execution_count": 4,
   "metadata": {},
   "outputs": [
    {
     "data": {
      "image/png": "[encoded data removed]",
      "text/plain": [
       "<Figure size 360x360 with 1 Axes>"
      ]
     },
     "metadata": {
      "needs_background": "light"
     },
     "output_type": "display_data"
    }
   ],
   "source": [
    "#Display #word per review distribution\n",
    "words_per_review = list(map(lambda x: len(x.split()), train_sent))\n",
    "\n",
    "sns.displot(words_per_review)\n",
    "plt.xlabel('Words per review')\n",
    "plt.ylabel('Number of Reviews')\n",
    "plt.title('Word Frequency')\n",
    "plt.show()"
   ]
  },
  {
   "cell_type": "markdown",
   "metadata": {},
   "source": [
    "### Identify distribution of good vs bad reviews"
   ]
  },
  {
   "cell_type": "code",
   "execution_count": 5,
   "metadata": {},
   "outputs": [
    {
     "name": "stdout",
     "output_type": "stream",
     "text": [
      "mean: 78.68, median 70.0, max words: 216, min words: 11\n",
      "0    45217\n",
      "1    44783\n",
      "Name: good_review, dtype: int64\n"
     ]
    },
    {
     "data": {
      "image/png": "[encoded data removed]",
      "text/plain": [
       "<Figure size 432x288 with 1 Axes>"
      ]
     },
     "metadata": {},
     "output_type": "display_data"
    }
   ],
   "source": [
    "def list_stats(x):\n",
    "    print('mean: {}, median {}, max words: {}, min words: {}'.\n",
    "          format(round(np.mean(x),2),np.median(x),np.max(x), np.min(x)))\n",
    "\n",
    "\n",
    "list_stats(words_per_review)\n",
    "    # mean: 78.48, median 70.0, max words: 257, min words: 2\n",
    "\n",
    "#Label each review\n",
    "    #label_2 = good review, label 1 = bad\n",
    "    #0 --> bad reviews\n",
    "    #1 --> good reviews\n",
    "    \n",
    "# def review_type(x):\n",
    "#     return 1 if re.match(\"__label__2\", x) is not None else 0\n",
    "\n",
    "train_label = [0 if x[:10] == '__label__1' else 1 for x in sample_train]\n",
    "test_label = [0 if x[:10] == '__label__1' else 1 for x in sample_test]\n",
    "\n",
    "#create data frame storing review updates\n",
    "review_length_train = list(map(lambda x: len(x.split()), train_sent))\n",
    "review_length_test = list(map(lambda x: len(x.split()), test_sent))\n",
    "\n",
    "temp_train_data = list(zip(train_label, train_sent, review_length_train))\n",
    "temp_test_data = list(zip(test_label, test_sent, review_length_test))\n",
    "\n",
    "train_df = pd.DataFrame(temp_train_data, columns = ('good_review', 'review_raw','preclean_len'))\n",
    "test_df = pd.DataFrame(temp_test_data, columns = ('good_review', 'review_raw','preclean_len'))\n",
    "\n",
    "print(train_df.good_review.value_counts())\n",
    "    # #number of good and bad reviews are basically uniform\n",
    "    # 0    45217\n",
    "    # 1    44783\n",
    "    # Name: good_review, dtype: int64\n",
    "    \n",
    "#compare words count by review type\n",
    "sns.set_theme(style=\"darkgrid\")\n",
    "ax = sns.boxplot(x = 'good_review', y = 'preclean_len',\n",
    "            hue=\"good_review\",data = train_df)"
   ]
  },
  {
   "cell_type": "markdown",
   "metadata": {},
   "source": [
    "# Data Cleaning\n",
    "***"
   ]
  },
  {
   "cell_type": "code",
   "execution_count": 6,
   "metadata": {},
   "outputs": [
    {
     "data": {
      "text/html": [
       "<div>\n",
       "<style scoped>\n",
       "    .dataframe tbody tr th:only-of-type {\n",
       "        vertical-align: middle;\n",
       "    }\n",
       "\n",
       "    .dataframe tbody tr th {\n",
       "        vertical-align: top;\n",
       "    }\n",
       "\n",
       "    .dataframe thead th {\n",
       "        text-align: right;\n",
       "    }\n",
       "</style>\n",
       "<table border=\"1\" class=\"dataframe\">\n",
       "  <thead>\n",
       "    <tr style=\"text-align: right;\">\n",
       "      <th></th>\n",
       "      <th>good_review</th>\n",
       "      <th>review_raw</th>\n",
       "      <th>preclean_len</th>\n",
       "      <th>with_url</th>\n",
       "    </tr>\n",
       "  </thead>\n",
       "  <tbody>\n",
       "    <tr>\n",
       "      <th>0</th>\n",
       "      <td>1</td>\n",
       "      <td>a different view of blink 182: if you bought t...</td>\n",
       "      <td>44</td>\n",
       "      <td>0</td>\n",
       "    </tr>\n",
       "    <tr>\n",
       "      <th>1</th>\n",
       "      <td>1</td>\n",
       "      <td>a holiday classic: this was one of my favorite...</td>\n",
       "      <td>41</td>\n",
       "      <td>0</td>\n",
       "    </tr>\n",
       "    <tr>\n",
       "      <th>2</th>\n",
       "      <td>0</td>\n",
       "      <td>np-700 mistake: do not buy this product--this ...</td>\n",
       "      <td>80</td>\n",
       "      <td>0</td>\n",
       "    </tr>\n",
       "  </tbody>\n",
       "</table>\n",
       "</div>"
      ],
      "text/plain": [
       "   good_review                                         review_raw  \\\n",
       "0            1  a different view of blink 182: if you bought t...   \n",
       "1            1  a holiday classic: this was one of my favorite...   \n",
       "2            0  np-700 mistake: do not buy this product--this ...   \n",
       "\n",
       "   preclean_len  with_url  \n",
       "0            44         0  \n",
       "1            41         0  \n",
       "2            80         0  "
      ]
     },
     "execution_count": 6,
     "metadata": {},
     "output_type": "execute_result"
    }
   ],
   "source": [
    "#identify if this review has a UR: 1 for true and 0 for False\n",
    "url_key_word = ['www.', '.gov', '.net', '.org', 'http','https']\n",
    "\n",
    "def url_check(x):\n",
    "    url_with_review = []\n",
    "    \n",
    "    for i in np.arange(len(x)):\n",
    "        if any(key_word in x[i] for key_word in url_key_word):\n",
    "            url_with_review.append(1)\n",
    "        else:\n",
    "            url_with_review.append(0)\n",
    "            \n",
    "    return url_with_review\n",
    "        \n",
    "#url instances\n",
    "# np.sum(url_with_review)\n",
    "#     #9422 instances\n",
    "\n",
    "train_df['with_url'] = url_check(train_sent)\n",
    "test_df['with_url'] = url_check(test_sent)\n",
    "\n",
    "train_df.head(3)"
   ]
  },
  {
   "cell_type": "code",
   "execution_count": 7,
   "metadata": {},
   "outputs": [
    {
     "data": {
      "text/html": [
       "<div>\n",
       "<style scoped>\n",
       "    .dataframe tbody tr th:only-of-type {\n",
       "        vertical-align: middle;\n",
       "    }\n",
       "\n",
       "    .dataframe tbody tr th {\n",
       "        vertical-align: top;\n",
       "    }\n",
       "\n",
       "    .dataframe thead th {\n",
       "        text-align: right;\n",
       "    }\n",
       "</style>\n",
       "<table border=\"1\" class=\"dataframe\">\n",
       "  <thead>\n",
       "    <tr style=\"text-align: right;\">\n",
       "      <th></th>\n",
       "      <th>good_review</th>\n",
       "      <th>review_raw</th>\n",
       "      <th>preclean_len</th>\n",
       "      <th>with_url</th>\n",
       "      <th>url_replace</th>\n",
       "    </tr>\n",
       "  </thead>\n",
       "  <tbody>\n",
       "    <tr>\n",
       "      <th>0</th>\n",
       "      <td>1</td>\n",
       "      <td>a different view of blink 182: if you bought t...</td>\n",
       "      <td>44</td>\n",
       "      <td>0</td>\n",
       "      <td>a different view of blink 182: if you bought t...</td>\n",
       "    </tr>\n",
       "    <tr>\n",
       "      <th>1</th>\n",
       "      <td>1</td>\n",
       "      <td>a holiday classic: this was one of my favorite...</td>\n",
       "      <td>41</td>\n",
       "      <td>0</td>\n",
       "      <td>a holiday classic: this was one of my favorite...</td>\n",
       "    </tr>\n",
       "    <tr>\n",
       "      <th>2</th>\n",
       "      <td>0</td>\n",
       "      <td>np-700 mistake: do not buy this product--this ...</td>\n",
       "      <td>80</td>\n",
       "      <td>0</td>\n",
       "      <td>np-700 mistake: do not buy this product--this ...</td>\n",
       "    </tr>\n",
       "  </tbody>\n",
       "</table>\n",
       "</div>"
      ],
      "text/plain": [
       "   good_review                                         review_raw  \\\n",
       "0            1  a different view of blink 182: if you bought t...   \n",
       "1            1  a holiday classic: this was one of my favorite...   \n",
       "2            0  np-700 mistake: do not buy this product--this ...   \n",
       "\n",
       "   preclean_len  with_url                                        url_replace  \n",
       "0            44         0  a different view of blink 182: if you bought t...  \n",
       "1            41         0  a holiday classic: this was one of my favorite...  \n",
       "2            80         0  np-700 mistake: do not buy this product--this ...  "
      ]
     },
     "execution_count": 7,
     "metadata": {},
     "output_type": "execute_result"
    }
   ],
   "source": [
    "url_key = \"(http|ftp|https)://([\\w_-]+(?:(?:\\.[\\w_-]+)+))([\\w.,@?^=%&:/~+#-]*[\\w@?^=%&/~+#-])?\"\n",
    "\n",
    "def url_replace(x):\n",
    "    output = []\n",
    "    \n",
    "    for i in np.arange(len(x)):\n",
    "        if any(key_word in x[i] for key_word in url_key_word):\n",
    "            x[i] = re.sub(url_key, 'url', x[i])\n",
    "        output.append(x[i])\n",
    "        \n",
    "    return output\n",
    "\n",
    "\n",
    "train_sent = url_replace(train_sent)\n",
    "test_sent = url_replace(test_sent)\n",
    "\n",
    "train_df['url_replace'] = train_sent\n",
    "test_df['url_replace'] = test_sent\n",
    "\n",
    "train_df.head(3)"
   ]
  },
  {
   "cell_type": "code",
   "execution_count": 8,
   "metadata": {},
   "outputs": [
    {
     "data": {
      "text/html": [
       "<div>\n",
       "<style scoped>\n",
       "    .dataframe tbody tr th:only-of-type {\n",
       "        vertical-align: middle;\n",
       "    }\n",
       "\n",
       "    .dataframe tbody tr th {\n",
       "        vertical-align: top;\n",
       "    }\n",
       "\n",
       "    .dataframe thead th {\n",
       "        text-align: right;\n",
       "    }\n",
       "</style>\n",
       "<table border=\"1\" class=\"dataframe\">\n",
       "  <thead>\n",
       "    <tr style=\"text-align: right;\">\n",
       "      <th></th>\n",
       "      <th>good_review</th>\n",
       "      <th>review_raw</th>\n",
       "      <th>preclean_len</th>\n",
       "      <th>with_url</th>\n",
       "      <th>url_replace</th>\n",
       "      <th>not_contrac</th>\n",
       "      <th>tokenized</th>\n",
       "    </tr>\n",
       "  </thead>\n",
       "  <tbody>\n",
       "    <tr>\n",
       "      <th>0</th>\n",
       "      <td>1</td>\n",
       "      <td>a different view of blink 182: if you bought t...</td>\n",
       "      <td>44</td>\n",
       "      <td>0</td>\n",
       "      <td>a different view of blink 182: if you bought t...</td>\n",
       "      <td>a different view of blink 182: if you bought t...</td>\n",
       "      <td>[a, different, view, of, blink, 182, :, if, yo...</td>\n",
       "    </tr>\n",
       "    <tr>\n",
       "      <th>1</th>\n",
       "      <td>1</td>\n",
       "      <td>a holiday classic: this was one of my favorite...</td>\n",
       "      <td>41</td>\n",
       "      <td>0</td>\n",
       "      <td>a holiday classic: this was one of my favorite...</td>\n",
       "      <td>a holiday classic: this was one of my favorite...</td>\n",
       "      <td>[a, holiday, classic, :, this, was, one, of, m...</td>\n",
       "    </tr>\n",
       "    <tr>\n",
       "      <th>2</th>\n",
       "      <td>0</td>\n",
       "      <td>np-700 mistake: do not buy this product--this ...</td>\n",
       "      <td>80</td>\n",
       "      <td>0</td>\n",
       "      <td>np-700 mistake: do not buy this product--this ...</td>\n",
       "      <td>np-700 mistake: do not buy this product--this ...</td>\n",
       "      <td>[np-700, mistake, :, do, not, buy, this, produ...</td>\n",
       "    </tr>\n",
       "  </tbody>\n",
       "</table>\n",
       "</div>"
      ],
      "text/plain": [
       "   good_review                                         review_raw  \\\n",
       "0            1  a different view of blink 182: if you bought t...   \n",
       "1            1  a holiday classic: this was one of my favorite...   \n",
       "2            0  np-700 mistake: do not buy this product--this ...   \n",
       "\n",
       "   preclean_len  with_url                                        url_replace  \\\n",
       "0            44         0  a different view of blink 182: if you bought t...   \n",
       "1            41         0  a holiday classic: this was one of my favorite...   \n",
       "2            80         0  np-700 mistake: do not buy this product--this ...   \n",
       "\n",
       "                                         not_contrac  \\\n",
       "0  a different view of blink 182: if you bought t...   \n",
       "1  a holiday classic: this was one of my favorite...   \n",
       "2  np-700 mistake: do not buy this product--this ...   \n",
       "\n",
       "                                           tokenized  \n",
       "0  [a, different, view, of, blink, 182, :, if, yo...  \n",
       "1  [a, holiday, classic, :, this, was, one, of, m...  \n",
       "2  [np-700, mistake, :, do, not, buy, this, produ...  "
      ]
     },
     "execution_count": 8,
     "metadata": {},
     "output_type": "execute_result"
    }
   ],
   "source": [
    "#replace contractions\n",
    "\n",
    "def contrac_replace(x):\n",
    "    output = []\n",
    "    for i in np.arange(len(x)):\n",
    "        x[i] = [contractions.fix(word) for word in x[i].split()]\n",
    "        output.append(' '.join(x[i]))\n",
    "    return output\n",
    "\n",
    "train_sent = contrac_replace(train_sent)\n",
    "test_sent = contrac_replace(test_sent)\n",
    "    \n",
    "train_df['not_contrac'] = train_sent\n",
    "test_df['not_contrac'] = test_sent\n",
    "\n",
    "#tokenize words\n",
    "\n",
    "train_sent = [word_tokenize(doc) for doc in train_sent]\n",
    "test_sent = [word_tokenize(doc) for doc in test_sent]\n",
    "\n",
    "train_df['tokenized'] = train_sent\n",
    "test_df['tokenized'] = test_sent\n",
    "\n",
    "train_df.head(3)"
   ]
  },
  {
   "cell_type": "code",
   "execution_count": 9,
   "metadata": {},
   "outputs": [
    {
     "data": {
      "text/html": [
       "<div>\n",
       "<style scoped>\n",
       "    .dataframe tbody tr th:only-of-type {\n",
       "        vertical-align: middle;\n",
       "    }\n",
       "\n",
       "    .dataframe tbody tr th {\n",
       "        vertical-align: top;\n",
       "    }\n",
       "\n",
       "    .dataframe thead th {\n",
       "        text-align: right;\n",
       "    }\n",
       "</style>\n",
       "<table border=\"1\" class=\"dataframe\">\n",
       "  <thead>\n",
       "    <tr style=\"text-align: right;\">\n",
       "      <th></th>\n",
       "      <th>good_review</th>\n",
       "      <th>review_raw</th>\n",
       "      <th>preclean_len</th>\n",
       "      <th>with_url</th>\n",
       "      <th>url_replace</th>\n",
       "      <th>not_contrac</th>\n",
       "      <th>tokenized</th>\n",
       "      <th>no_punc</th>\n",
       "    </tr>\n",
       "  </thead>\n",
       "  <tbody>\n",
       "    <tr>\n",
       "      <th>0</th>\n",
       "      <td>1</td>\n",
       "      <td>a different view of blink 182: if you bought t...</td>\n",
       "      <td>44</td>\n",
       "      <td>0</td>\n",
       "      <td>a different view of blink 182: if you bought t...</td>\n",
       "      <td>a different view of blink 182: if you bought t...</td>\n",
       "      <td>[a, different, view, of, blink, 182, :, if, yo...</td>\n",
       "      <td>[a, different, view, of, blink, 182, if, you, ...</td>\n",
       "    </tr>\n",
       "    <tr>\n",
       "      <th>1</th>\n",
       "      <td>1</td>\n",
       "      <td>a holiday classic: this was one of my favorite...</td>\n",
       "      <td>41</td>\n",
       "      <td>0</td>\n",
       "      <td>a holiday classic: this was one of my favorite...</td>\n",
       "      <td>a holiday classic: this was one of my favorite...</td>\n",
       "      <td>[a, holiday, classic, :, this, was, one, of, m...</td>\n",
       "      <td>[a, holiday, classic, this, was, one, of, my, ...</td>\n",
       "    </tr>\n",
       "    <tr>\n",
       "      <th>2</th>\n",
       "      <td>0</td>\n",
       "      <td>np-700 mistake: do not buy this product--this ...</td>\n",
       "      <td>80</td>\n",
       "      <td>0</td>\n",
       "      <td>np-700 mistake: do not buy this product--this ...</td>\n",
       "      <td>np-700 mistake: do not buy this product--this ...</td>\n",
       "      <td>[np-700, mistake, :, do, not, buy, this, produ...</td>\n",
       "      <td>[np-700, mistake, do, not, buy, this, product,...</td>\n",
       "    </tr>\n",
       "  </tbody>\n",
       "</table>\n",
       "</div>"
      ],
      "text/plain": [
       "   good_review                                         review_raw  \\\n",
       "0            1  a different view of blink 182: if you bought t...   \n",
       "1            1  a holiday classic: this was one of my favorite...   \n",
       "2            0  np-700 mistake: do not buy this product--this ...   \n",
       "\n",
       "   preclean_len  with_url                                        url_replace  \\\n",
       "0            44         0  a different view of blink 182: if you bought t...   \n",
       "1            41         0  a holiday classic: this was one of my favorite...   \n",
       "2            80         0  np-700 mistake: do not buy this product--this ...   \n",
       "\n",
       "                                         not_contrac  \\\n",
       "0  a different view of blink 182: if you bought t...   \n",
       "1  a holiday classic: this was one of my favorite...   \n",
       "2  np-700 mistake: do not buy this product--this ...   \n",
       "\n",
       "                                           tokenized  \\\n",
       "0  [a, different, view, of, blink, 182, :, if, yo...   \n",
       "1  [a, holiday, classic, :, this, was, one, of, m...   \n",
       "2  [np-700, mistake, :, do, not, buy, this, produ...   \n",
       "\n",
       "                                             no_punc  \n",
       "0  [a, different, view, of, blink, 182, if, you, ...  \n",
       "1  [a, holiday, classic, this, was, one, of, my, ...  \n",
       "2  [np-700, mistake, do, not, buy, this, product,...  "
      ]
     },
     "execution_count": 9,
     "metadata": {},
     "output_type": "execute_result"
    }
   ],
   "source": [
    "#remove punctuations\n",
    "\n",
    "punc = string.punctuation\n",
    "\n",
    "def remove_punc(corpus):\n",
    "    output = []\n",
    "    \n",
    "    for docs in corpus:       \n",
    "        temp_list = [word for word in docs if word not in punc]\n",
    "            \n",
    "        output.append(temp_list)                   \n",
    "    return output\n",
    "\n",
    "train_sent = remove_punc(train_sent)\n",
    "test_sent = remove_punc(test_sent)\n",
    "\n",
    "train_df['no_punc'] = train_sent\n",
    "test_df['no_punc'] = test_sent\n",
    "\n",
    "train_df.head(3)"
   ]
  },
  {
   "cell_type": "code",
   "execution_count": 10,
   "metadata": {},
   "outputs": [
    {
     "data": {
      "text/html": [
       "<div>\n",
       "<style scoped>\n",
       "    .dataframe tbody tr th:only-of-type {\n",
       "        vertical-align: middle;\n",
       "    }\n",
       "\n",
       "    .dataframe tbody tr th {\n",
       "        vertical-align: top;\n",
       "    }\n",
       "\n",
       "    .dataframe thead th {\n",
       "        text-align: right;\n",
       "    }\n",
       "</style>\n",
       "<table border=\"1\" class=\"dataframe\">\n",
       "  <thead>\n",
       "    <tr style=\"text-align: right;\">\n",
       "      <th></th>\n",
       "      <th>good_review</th>\n",
       "      <th>review_raw</th>\n",
       "      <th>preclean_len</th>\n",
       "      <th>with_url</th>\n",
       "      <th>url_replace</th>\n",
       "      <th>not_contrac</th>\n",
       "      <th>tokenized</th>\n",
       "      <th>no_punc</th>\n",
       "      <th>digit_replace</th>\n",
       "    </tr>\n",
       "  </thead>\n",
       "  <tbody>\n",
       "    <tr>\n",
       "      <th>0</th>\n",
       "      <td>1</td>\n",
       "      <td>a different view of blink 182: if you bought t...</td>\n",
       "      <td>44</td>\n",
       "      <td>0</td>\n",
       "      <td>a different view of blink 182: if you bought t...</td>\n",
       "      <td>a different view of blink 182: if you bought t...</td>\n",
       "      <td>[a, different, view, of, blink, 182, :, if, yo...</td>\n",
       "      <td>[a, different, view, of, blink, 182, if, you, ...</td>\n",
       "      <td>a   d i f f e r e n t   v i e w   o f   b l i ...</td>\n",
       "    </tr>\n",
       "    <tr>\n",
       "      <th>1</th>\n",
       "      <td>1</td>\n",
       "      <td>a holiday classic: this was one of my favorite...</td>\n",
       "      <td>41</td>\n",
       "      <td>0</td>\n",
       "      <td>a holiday classic: this was one of my favorite...</td>\n",
       "      <td>a holiday classic: this was one of my favorite...</td>\n",
       "      <td>[a, holiday, classic, :, this, was, one, of, m...</td>\n",
       "      <td>[a, holiday, classic, this, was, one, of, my, ...</td>\n",
       "      <td>a   h o l i d a y   c l a s s i c   t h i s   ...</td>\n",
       "    </tr>\n",
       "    <tr>\n",
       "      <th>2</th>\n",
       "      <td>0</td>\n",
       "      <td>np-700 mistake: do not buy this product--this ...</td>\n",
       "      <td>80</td>\n",
       "      <td>0</td>\n",
       "      <td>np-700 mistake: do not buy this product--this ...</td>\n",
       "      <td>np-700 mistake: do not buy this product--this ...</td>\n",
       "      <td>[np-700, mistake, :, do, not, buy, this, produ...</td>\n",
       "      <td>[np-700, mistake, do, not, buy, this, product,...</td>\n",
       "      <td>n p - 0 0 0   m i s t a k e   d o   n o t   b ...</td>\n",
       "    </tr>\n",
       "  </tbody>\n",
       "</table>\n",
       "</div>"
      ],
      "text/plain": [
       "   good_review                                         review_raw  \\\n",
       "0            1  a different view of blink 182: if you bought t...   \n",
       "1            1  a holiday classic: this was one of my favorite...   \n",
       "2            0  np-700 mistake: do not buy this product--this ...   \n",
       "\n",
       "   preclean_len  with_url                                        url_replace  \\\n",
       "0            44         0  a different view of blink 182: if you bought t...   \n",
       "1            41         0  a holiday classic: this was one of my favorite...   \n",
       "2            80         0  np-700 mistake: do not buy this product--this ...   \n",
       "\n",
       "                                         not_contrac  \\\n",
       "0  a different view of blink 182: if you bought t...   \n",
       "1  a holiday classic: this was one of my favorite...   \n",
       "2  np-700 mistake: do not buy this product--this ...   \n",
       "\n",
       "                                           tokenized  \\\n",
       "0  [a, different, view, of, blink, 182, :, if, yo...   \n",
       "1  [a, holiday, classic, :, this, was, one, of, m...   \n",
       "2  [np-700, mistake, :, do, not, buy, this, produ...   \n",
       "\n",
       "                                             no_punc  \\\n",
       "0  [a, different, view, of, blink, 182, if, you, ...   \n",
       "1  [a, holiday, classic, this, was, one, of, my, ...   \n",
       "2  [np-700, mistake, do, not, buy, this, product,...   \n",
       "\n",
       "                                       digit_replace  \n",
       "0  a   d i f f e r e n t   v i e w   o f   b l i ...  \n",
       "1  a   h o l i d a y   c l a s s i c   t h i s   ...  \n",
       "2  n p - 0 0 0   m i s t a k e   d o   n o t   b ...  "
      ]
     },
     "execution_count": 10,
     "metadata": {},
     "output_type": "execute_result"
    }
   ],
   "source": [
    "def digit_replace(corpus):\n",
    "    \n",
    "    output = []\n",
    "    \n",
    "    for docs in corpus:       \n",
    "        \n",
    "        temp_list = []\n",
    "        for word in docs:\n",
    "            temp_list.extend([word if word.isdigit() == False else '0'])\n",
    "            \n",
    "        output.append(' '.join(temp_list))                   \n",
    "    return output\n",
    "\n",
    "train_sent = digit_replace(train_sent)\n",
    "test_sent = digit_replace(test_sent)\n",
    "\n",
    "train_df['digit_replace'] = digit_replace(train_sent)\n",
    "test_df['digit_replace'] = digit_replace(test_sent)\n",
    "\n",
    "train_df.head(3)\n"
   ]
  },
  {
   "cell_type": "code",
   "execution_count": 11,
   "metadata": {},
   "outputs": [
    {
     "data": {
      "text/html": [
       "<div>\n",
       "<style scoped>\n",
       "    .dataframe tbody tr th:only-of-type {\n",
       "        vertical-align: middle;\n",
       "    }\n",
       "\n",
       "    .dataframe tbody tr th {\n",
       "        vertical-align: top;\n",
       "    }\n",
       "\n",
       "    .dataframe thead th {\n",
       "        text-align: right;\n",
       "    }\n",
       "</style>\n",
       "<table border=\"1\" class=\"dataframe\">\n",
       "  <thead>\n",
       "    <tr style=\"text-align: right;\">\n",
       "      <th></th>\n",
       "      <th>good_review</th>\n",
       "      <th>review_raw</th>\n",
       "      <th>preclean_len</th>\n",
       "      <th>with_url</th>\n",
       "      <th>url_replace</th>\n",
       "      <th>not_contrac</th>\n",
       "      <th>tokenized</th>\n",
       "      <th>no_punc</th>\n",
       "      <th>digit_replace</th>\n",
       "      <th>rmv_stopwords</th>\n",
       "    </tr>\n",
       "  </thead>\n",
       "  <tbody>\n",
       "    <tr>\n",
       "      <th>0</th>\n",
       "      <td>1</td>\n",
       "      <td>a different view of blink 182: if you bought t...</td>\n",
       "      <td>44</td>\n",
       "      <td>0</td>\n",
       "      <td>a different view of blink 182: if you bought t...</td>\n",
       "      <td>a different view of blink 182: if you bought t...</td>\n",
       "      <td>[a, different, view, of, blink, 182, :, if, yo...</td>\n",
       "      <td>[a, different, view, of, blink, 182, if, you, ...</td>\n",
       "      <td>a   d i f f e r e n t   v i e w   o f   b l i ...</td>\n",
       "      <td>[different, view, blink, 182, bought, cd, buyi...</td>\n",
       "    </tr>\n",
       "    <tr>\n",
       "      <th>1</th>\n",
       "      <td>1</td>\n",
       "      <td>a holiday classic: this was one of my favorite...</td>\n",
       "      <td>41</td>\n",
       "      <td>0</td>\n",
       "      <td>a holiday classic: this was one of my favorite...</td>\n",
       "      <td>a holiday classic: this was one of my favorite...</td>\n",
       "      <td>[a, holiday, classic, :, this, was, one, of, m...</td>\n",
       "      <td>[a, holiday, classic, this, was, one, of, my, ...</td>\n",
       "      <td>a   h o l i d a y   c l a s s i c   t h i s   ...</td>\n",
       "      <td>[holiday, classic, one, favorite, holiday, sto...</td>\n",
       "    </tr>\n",
       "    <tr>\n",
       "      <th>2</th>\n",
       "      <td>0</td>\n",
       "      <td>np-700 mistake: do not buy this product--this ...</td>\n",
       "      <td>80</td>\n",
       "      <td>0</td>\n",
       "      <td>np-700 mistake: do not buy this product--this ...</td>\n",
       "      <td>np-700 mistake: do not buy this product--this ...</td>\n",
       "      <td>[np-700, mistake, :, do, not, buy, this, produ...</td>\n",
       "      <td>[np-700, mistake, do, not, buy, this, product,...</td>\n",
       "      <td>n p - 0 0 0   m i s t a k e   d o   n o t   b ...</td>\n",
       "      <td>[np-700, mistake, buy, product, --, price, ene...</td>\n",
       "    </tr>\n",
       "  </tbody>\n",
       "</table>\n",
       "</div>"
      ],
      "text/plain": [
       "   good_review                                         review_raw  \\\n",
       "0            1  a different view of blink 182: if you bought t...   \n",
       "1            1  a holiday classic: this was one of my favorite...   \n",
       "2            0  np-700 mistake: do not buy this product--this ...   \n",
       "\n",
       "   preclean_len  with_url                                        url_replace  \\\n",
       "0            44         0  a different view of blink 182: if you bought t...   \n",
       "1            41         0  a holiday classic: this was one of my favorite...   \n",
       "2            80         0  np-700 mistake: do not buy this product--this ...   \n",
       "\n",
       "                                         not_contrac  \\\n",
       "0  a different view of blink 182: if you bought t...   \n",
       "1  a holiday classic: this was one of my favorite...   \n",
       "2  np-700 mistake: do not buy this product--this ...   \n",
       "\n",
       "                                           tokenized  \\\n",
       "0  [a, different, view, of, blink, 182, :, if, yo...   \n",
       "1  [a, holiday, classic, :, this, was, one, of, m...   \n",
       "2  [np-700, mistake, :, do, not, buy, this, produ...   \n",
       "\n",
       "                                             no_punc  \\\n",
       "0  [a, different, view, of, blink, 182, if, you, ...   \n",
       "1  [a, holiday, classic, this, was, one, of, my, ...   \n",
       "2  [np-700, mistake, do, not, buy, this, product,...   \n",
       "\n",
       "                                       digit_replace  \\\n",
       "0  a   d i f f e r e n t   v i e w   o f   b l i ...   \n",
       "1  a   h o l i d a y   c l a s s i c   t h i s   ...   \n",
       "2  n p - 0 0 0   m i s t a k e   d o   n o t   b ...   \n",
       "\n",
       "                                       rmv_stopwords  \n",
       "0  [different, view, blink, 182, bought, cd, buyi...  \n",
       "1  [holiday, classic, one, favorite, holiday, sto...  \n",
       "2  [np-700, mistake, buy, product, --, price, ene...  "
      ]
     },
     "execution_count": 11,
     "metadata": {},
     "output_type": "execute_result"
    }
   ],
   "source": [
    "#identify and remove 'stopwords' (i.e. the, a)\n",
    "\n",
    "stopwords = stopwords.words('english')\n",
    "\n",
    "train_df['rmv_stopwords'] = train_df['no_punc'].apply(lambda x: [word for word in x if word not in stopwords])\n",
    "test_df['rmv_stopwords'] = test_df['no_punc'].apply(lambda x: [word for word in x if word not in stopwords])\n",
    "\n",
    "train_df.head(3)"
   ]
  },
  {
   "cell_type": "code",
   "execution_count": 12,
   "metadata": {},
   "outputs": [
    {
     "data": {
      "text/html": [
       "<div>\n",
       "<style scoped>\n",
       "    .dataframe tbody tr th:only-of-type {\n",
       "        vertical-align: middle;\n",
       "    }\n",
       "\n",
       "    .dataframe tbody tr th {\n",
       "        vertical-align: top;\n",
       "    }\n",
       "\n",
       "    .dataframe thead th {\n",
       "        text-align: right;\n",
       "    }\n",
       "</style>\n",
       "<table border=\"1\" class=\"dataframe\">\n",
       "  <thead>\n",
       "    <tr style=\"text-align: right;\">\n",
       "      <th></th>\n",
       "      <th>good_review</th>\n",
       "      <th>review_raw</th>\n",
       "      <th>preclean_len</th>\n",
       "      <th>with_url</th>\n",
       "      <th>url_replace</th>\n",
       "      <th>not_contrac</th>\n",
       "      <th>tokenized</th>\n",
       "      <th>no_punc</th>\n",
       "      <th>digit_replace</th>\n",
       "      <th>rmv_stopwords</th>\n",
       "      <th>pos_tag</th>\n",
       "      <th>wnl_pos</th>\n",
       "    </tr>\n",
       "  </thead>\n",
       "  <tbody>\n",
       "    <tr>\n",
       "      <th>0</th>\n",
       "      <td>1</td>\n",
       "      <td>a different view of blink 182: if you bought t...</td>\n",
       "      <td>44</td>\n",
       "      <td>0</td>\n",
       "      <td>a different view of blink 182: if you bought t...</td>\n",
       "      <td>a different view of blink 182: if you bought t...</td>\n",
       "      <td>[a, different, view, of, blink, 182, :, if, yo...</td>\n",
       "      <td>[a, different, view, of, blink, 182, if, you, ...</td>\n",
       "      <td>a   d i f f e r e n t   v i e w   o f   b l i ...</td>\n",
       "      <td>[different, view, blink, 182, bought, cd, buyi...</td>\n",
       "      <td>[(different, JJ), (view, NN), (blink, VBP), (1...</td>\n",
       "      <td>[(different, a), (view, n), (blink, v), (182, ...</td>\n",
       "    </tr>\n",
       "    <tr>\n",
       "      <th>1</th>\n",
       "      <td>1</td>\n",
       "      <td>a holiday classic: this was one of my favorite...</td>\n",
       "      <td>41</td>\n",
       "      <td>0</td>\n",
       "      <td>a holiday classic: this was one of my favorite...</td>\n",
       "      <td>a holiday classic: this was one of my favorite...</td>\n",
       "      <td>[a, holiday, classic, :, this, was, one, of, m...</td>\n",
       "      <td>[a, holiday, classic, this, was, one, of, my, ...</td>\n",
       "      <td>a   h o l i d a y   c l a s s i c   t h i s   ...</td>\n",
       "      <td>[holiday, classic, one, favorite, holiday, sto...</td>\n",
       "      <td>[(holiday, NN), (classic, JJ), (one, CD), (fav...</td>\n",
       "      <td>[(holiday, n), (classic, a), (one, None), (fav...</td>\n",
       "    </tr>\n",
       "    <tr>\n",
       "      <th>2</th>\n",
       "      <td>0</td>\n",
       "      <td>np-700 mistake: do not buy this product--this ...</td>\n",
       "      <td>80</td>\n",
       "      <td>0</td>\n",
       "      <td>np-700 mistake: do not buy this product--this ...</td>\n",
       "      <td>np-700 mistake: do not buy this product--this ...</td>\n",
       "      <td>[np-700, mistake, :, do, not, buy, this, produ...</td>\n",
       "      <td>[np-700, mistake, do, not, buy, this, product,...</td>\n",
       "      <td>n p - 0 0 0   m i s t a k e   d o   n o t   b ...</td>\n",
       "      <td>[np-700, mistake, buy, product, --, price, ene...</td>\n",
       "      <td>[(np-700, JJ), (mistake, NN), (buy, NN), (prod...</td>\n",
       "      <td>[(np-700, a), (mistake, n), (buy, n), (product...</td>\n",
       "    </tr>\n",
       "  </tbody>\n",
       "</table>\n",
       "</div>"
      ],
      "text/plain": [
       "   good_review                                         review_raw  \\\n",
       "0            1  a different view of blink 182: if you bought t...   \n",
       "1            1  a holiday classic: this was one of my favorite...   \n",
       "2            0  np-700 mistake: do not buy this product--this ...   \n",
       "\n",
       "   preclean_len  with_url                                        url_replace  \\\n",
       "0            44         0  a different view of blink 182: if you bought t...   \n",
       "1            41         0  a holiday classic: this was one of my favorite...   \n",
       "2            80         0  np-700 mistake: do not buy this product--this ...   \n",
       "\n",
       "                                         not_contrac  \\\n",
       "0  a different view of blink 182: if you bought t...   \n",
       "1  a holiday classic: this was one of my favorite...   \n",
       "2  np-700 mistake: do not buy this product--this ...   \n",
       "\n",
       "                                           tokenized  \\\n",
       "0  [a, different, view, of, blink, 182, :, if, yo...   \n",
       "1  [a, holiday, classic, :, this, was, one, of, m...   \n",
       "2  [np-700, mistake, :, do, not, buy, this, produ...   \n",
       "\n",
       "                                             no_punc  \\\n",
       "0  [a, different, view, of, blink, 182, if, you, ...   \n",
       "1  [a, holiday, classic, this, was, one, of, my, ...   \n",
       "2  [np-700, mistake, do, not, buy, this, product,...   \n",
       "\n",
       "                                       digit_replace  \\\n",
       "0  a   d i f f e r e n t   v i e w   o f   b l i ...   \n",
       "1  a   h o l i d a y   c l a s s i c   t h i s   ...   \n",
       "2  n p - 0 0 0   m i s t a k e   d o   n o t   b ...   \n",
       "\n",
       "                                       rmv_stopwords  \\\n",
       "0  [different, view, blink, 182, bought, cd, buyi...   \n",
       "1  [holiday, classic, one, favorite, holiday, sto...   \n",
       "2  [np-700, mistake, buy, product, --, price, ene...   \n",
       "\n",
       "                                             pos_tag  \\\n",
       "0  [(different, JJ), (view, NN), (blink, VBP), (1...   \n",
       "1  [(holiday, NN), (classic, JJ), (one, CD), (fav...   \n",
       "2  [(np-700, JJ), (mistake, NN), (buy, NN), (prod...   \n",
       "\n",
       "                                             wnl_pos  \n",
       "0  [(different, a), (view, n), (blink, v), (182, ...  \n",
       "1  [(holiday, n), (classic, a), (one, None), (fav...  \n",
       "2  [(np-700, a), (mistake, n), (buy, n), (product...  "
      ]
     },
     "execution_count": 12,
     "metadata": {},
     "output_type": "execute_result"
    }
   ],
   "source": [
    "#identify each token's part of speech\n",
    "\n",
    "train_df['pos_tag'] = train_df['rmv_stopwords'].apply(nltk.pos_tag)\n",
    "test_df['pos_tag'] = test_df['rmv_stopwords'].apply(nltk.pos_tag)\n",
    "\n",
    "#wordnet pos tag\n",
    "def pos_tagger(nltk_tag): \n",
    "    if nltk_tag.startswith('J'): \n",
    "        return wordnet.ADJ \n",
    "    elif nltk_tag.startswith('V'): \n",
    "        return wordnet.VERB \n",
    "    elif nltk_tag.startswith('N'): \n",
    "        return wordnet.NOUN \n",
    "    elif nltk_tag.startswith('R'): \n",
    "        return wordnet.ADV \n",
    "    else:           \n",
    "        return None\n",
    "\n",
    "train_df['wnl_pos'] = train_df['pos_tag'].apply(lambda x: [(word, pos_tagger(tag)) for (word, tag) in x])\n",
    "test_df['wnl_pos'] = test_df['pos_tag'].apply(lambda x: [(word, pos_tagger(tag)) for (word, tag) in x])\n",
    "\n",
    "train_df.head(3)"
   ]
  },
  {
   "cell_type": "code",
   "execution_count": 13,
   "metadata": {
    "scrolled": true
   },
   "outputs": [
    {
     "data": {
      "text/html": [
       "<div>\n",
       "<style scoped>\n",
       "    .dataframe tbody tr th:only-of-type {\n",
       "        vertical-align: middle;\n",
       "    }\n",
       "\n",
       "    .dataframe tbody tr th {\n",
       "        vertical-align: top;\n",
       "    }\n",
       "\n",
       "    .dataframe thead th {\n",
       "        text-align: right;\n",
       "    }\n",
       "</style>\n",
       "<table border=\"1\" class=\"dataframe\">\n",
       "  <thead>\n",
       "    <tr style=\"text-align: right;\">\n",
       "      <th></th>\n",
       "      <th>good_review</th>\n",
       "      <th>review_raw</th>\n",
       "      <th>preclean_len</th>\n",
       "      <th>with_url</th>\n",
       "      <th>url_replace</th>\n",
       "      <th>not_contrac</th>\n",
       "      <th>tokenized</th>\n",
       "      <th>no_punc</th>\n",
       "      <th>digit_replace</th>\n",
       "      <th>rmv_stopwords</th>\n",
       "      <th>pos_tag</th>\n",
       "      <th>wnl_pos</th>\n",
       "      <th>lemmatized</th>\n",
       "    </tr>\n",
       "  </thead>\n",
       "  <tbody>\n",
       "    <tr>\n",
       "      <th>0</th>\n",
       "      <td>1</td>\n",
       "      <td>a different view of blink 182: if you bought t...</td>\n",
       "      <td>44</td>\n",
       "      <td>0</td>\n",
       "      <td>a different view of blink 182: if you bought t...</td>\n",
       "      <td>a different view of blink 182: if you bought t...</td>\n",
       "      <td>[a, different, view, of, blink, 182, :, if, yo...</td>\n",
       "      <td>[a, different, view, of, blink, 182, if, you, ...</td>\n",
       "      <td>a   d i f f e r e n t   v i e w   o f   b l i ...</td>\n",
       "      <td>[different, view, blink, 182, bought, cd, buyi...</td>\n",
       "      <td>[(different, JJ), (view, NN), (blink, VBP), (1...</td>\n",
       "      <td>[(different, a), (view, n), (blink, v), (182, ...</td>\n",
       "      <td>[different, view, blink, 182, buy, cd, buy, en...</td>\n",
       "    </tr>\n",
       "    <tr>\n",
       "      <th>1</th>\n",
       "      <td>1</td>\n",
       "      <td>a holiday classic: this was one of my favorite...</td>\n",
       "      <td>41</td>\n",
       "      <td>0</td>\n",
       "      <td>a holiday classic: this was one of my favorite...</td>\n",
       "      <td>a holiday classic: this was one of my favorite...</td>\n",
       "      <td>[a, holiday, classic, :, this, was, one, of, m...</td>\n",
       "      <td>[a, holiday, classic, this, was, one, of, my, ...</td>\n",
       "      <td>a   h o l i d a y   c l a s s i c   t h i s   ...</td>\n",
       "      <td>[holiday, classic, one, favorite, holiday, sto...</td>\n",
       "      <td>[(holiday, NN), (classic, JJ), (one, CD), (fav...</td>\n",
       "      <td>[(holiday, n), (classic, a), (one, None), (fav...</td>\n",
       "      <td>[holiday, classic, one, favorite, holiday, sto...</td>\n",
       "    </tr>\n",
       "    <tr>\n",
       "      <th>2</th>\n",
       "      <td>0</td>\n",
       "      <td>np-700 mistake: do not buy this product--this ...</td>\n",
       "      <td>80</td>\n",
       "      <td>0</td>\n",
       "      <td>np-700 mistake: do not buy this product--this ...</td>\n",
       "      <td>np-700 mistake: do not buy this product--this ...</td>\n",
       "      <td>[np-700, mistake, :, do, not, buy, this, produ...</td>\n",
       "      <td>[np-700, mistake, do, not, buy, this, product,...</td>\n",
       "      <td>n p - 0 0 0   m i s t a k e   d o   n o t   b ...</td>\n",
       "      <td>[np-700, mistake, buy, product, --, price, ene...</td>\n",
       "      <td>[(np-700, JJ), (mistake, NN), (buy, NN), (prod...</td>\n",
       "      <td>[(np-700, a), (mistake, n), (buy, n), (product...</td>\n",
       "      <td>[np-700, mistake, buy, product, --, price, ene...</td>\n",
       "    </tr>\n",
       "  </tbody>\n",
       "</table>\n",
       "</div>"
      ],
      "text/plain": [
       "   good_review                                         review_raw  \\\n",
       "0            1  a different view of blink 182: if you bought t...   \n",
       "1            1  a holiday classic: this was one of my favorite...   \n",
       "2            0  np-700 mistake: do not buy this product--this ...   \n",
       "\n",
       "   preclean_len  with_url                                        url_replace  \\\n",
       "0            44         0  a different view of blink 182: if you bought t...   \n",
       "1            41         0  a holiday classic: this was one of my favorite...   \n",
       "2            80         0  np-700 mistake: do not buy this product--this ...   \n",
       "\n",
       "                                         not_contrac  \\\n",
       "0  a different view of blink 182: if you bought t...   \n",
       "1  a holiday classic: this was one of my favorite...   \n",
       "2  np-700 mistake: do not buy this product--this ...   \n",
       "\n",
       "                                           tokenized  \\\n",
       "0  [a, different, view, of, blink, 182, :, if, yo...   \n",
       "1  [a, holiday, classic, :, this, was, one, of, m...   \n",
       "2  [np-700, mistake, :, do, not, buy, this, produ...   \n",
       "\n",
       "                                             no_punc  \\\n",
       "0  [a, different, view, of, blink, 182, if, you, ...   \n",
       "1  [a, holiday, classic, this, was, one, of, my, ...   \n",
       "2  [np-700, mistake, do, not, buy, this, product,...   \n",
       "\n",
       "                                       digit_replace  \\\n",
       "0  a   d i f f e r e n t   v i e w   o f   b l i ...   \n",
       "1  a   h o l i d a y   c l a s s i c   t h i s   ...   \n",
       "2  n p - 0 0 0   m i s t a k e   d o   n o t   b ...   \n",
       "\n",
       "                                       rmv_stopwords  \\\n",
       "0  [different, view, blink, 182, bought, cd, buyi...   \n",
       "1  [holiday, classic, one, favorite, holiday, sto...   \n",
       "2  [np-700, mistake, buy, product, --, price, ene...   \n",
       "\n",
       "                                             pos_tag  \\\n",
       "0  [(different, JJ), (view, NN), (blink, VBP), (1...   \n",
       "1  [(holiday, NN), (classic, JJ), (one, CD), (fav...   \n",
       "2  [(np-700, JJ), (mistake, NN), (buy, NN), (prod...   \n",
       "\n",
       "                                             wnl_pos  \\\n",
       "0  [(different, a), (view, n), (blink, v), (182, ...   \n",
       "1  [(holiday, n), (classic, a), (one, None), (fav...   \n",
       "2  [(np-700, a), (mistake, n), (buy, n), (product...   \n",
       "\n",
       "                                          lemmatized  \n",
       "0  [different, view, blink, 182, buy, cd, buy, en...  \n",
       "1  [holiday, classic, one, favorite, holiday, sto...  \n",
       "2  [np-700, mistake, buy, product, --, price, ene...  "
      ]
     },
     "execution_count": 13,
     "metadata": {},
     "output_type": "execute_result"
    }
   ],
   "source": [
    "#Lemmatize\n",
    "wnl = WordNetLemmatizer()\n",
    "\n",
    "def lemmatized(doc):\n",
    "    \n",
    "    lemmatized_sentence = [] \n",
    "    for word, tag in doc: \n",
    "        if tag is None: \n",
    "            # if there is no available tag, append the token as is \n",
    "            lemmatized_sentence.append(word) \n",
    "        else:         \n",
    "            # else use the tag to lemmatize the token \n",
    "            lemmatized_sentence.append(wnl.lemmatize(word, tag)) \n",
    "\n",
    "    return lemmatized_sentence\n",
    "train_df['lemmatized']= train_df['wnl_pos'].apply(lemmatized)\n",
    "test_df['lemmatized']= test_df['wnl_pos'].apply(lemmatized)\n",
    "\n",
    "train_df.head(3)"
   ]
  },
  {
   "cell_type": "code",
   "execution_count": 14,
   "metadata": {},
   "outputs": [
    {
     "data": {
      "text/html": [
       "<div>\n",
       "<style scoped>\n",
       "    .dataframe tbody tr th:only-of-type {\n",
       "        vertical-align: middle;\n",
       "    }\n",
       "\n",
       "    .dataframe tbody tr th {\n",
       "        vertical-align: top;\n",
       "    }\n",
       "\n",
       "    .dataframe thead th {\n",
       "        text-align: right;\n",
       "    }\n",
       "</style>\n",
       "<table border=\"1\" class=\"dataframe\">\n",
       "  <thead>\n",
       "    <tr style=\"text-align: right;\">\n",
       "      <th></th>\n",
       "      <th>good_review</th>\n",
       "      <th>review_raw</th>\n",
       "      <th>preclean_len</th>\n",
       "      <th>with_url</th>\n",
       "      <th>url_replace</th>\n",
       "      <th>not_contrac</th>\n",
       "      <th>tokenized</th>\n",
       "      <th>no_punc</th>\n",
       "      <th>digit_replace</th>\n",
       "      <th>rmv_stopwords</th>\n",
       "      <th>pos_tag</th>\n",
       "      <th>wnl_pos</th>\n",
       "      <th>lemmatized</th>\n",
       "      <th>postclean_len</th>\n",
       "    </tr>\n",
       "  </thead>\n",
       "  <tbody>\n",
       "    <tr>\n",
       "      <th>0</th>\n",
       "      <td>1</td>\n",
       "      <td>a different view of blink 182: if you bought t...</td>\n",
       "      <td>44</td>\n",
       "      <td>0</td>\n",
       "      <td>a different view of blink 182: if you bought t...</td>\n",
       "      <td>a different view of blink 182: if you bought t...</td>\n",
       "      <td>[a, different, view, of, blink, 182, :, if, yo...</td>\n",
       "      <td>[a, different, view, of, blink, 182, if, you, ...</td>\n",
       "      <td>a   d i f f e r e n t   v i e w   o f   b l i ...</td>\n",
       "      <td>[different, view, blink, 182, bought, cd, buyi...</td>\n",
       "      <td>[(different, JJ), (view, NN), (blink, VBP), (1...</td>\n",
       "      <td>[(different, a), (view, n), (blink, v), (182, ...</td>\n",
       "      <td>[different, view, blink, 182, buy, cd, buy, en...</td>\n",
       "      <td>21</td>\n",
       "    </tr>\n",
       "    <tr>\n",
       "      <th>1</th>\n",
       "      <td>1</td>\n",
       "      <td>a holiday classic: this was one of my favorite...</td>\n",
       "      <td>41</td>\n",
       "      <td>0</td>\n",
       "      <td>a holiday classic: this was one of my favorite...</td>\n",
       "      <td>a holiday classic: this was one of my favorite...</td>\n",
       "      <td>[a, holiday, classic, :, this, was, one, of, m...</td>\n",
       "      <td>[a, holiday, classic, this, was, one, of, my, ...</td>\n",
       "      <td>a   h o l i d a y   c l a s s i c   t h i s   ...</td>\n",
       "      <td>[holiday, classic, one, favorite, holiday, sto...</td>\n",
       "      <td>[(holiday, NN), (classic, JJ), (one, CD), (fav...</td>\n",
       "      <td>[(holiday, n), (classic, a), (one, None), (fav...</td>\n",
       "      <td>[holiday, classic, one, favorite, holiday, sto...</td>\n",
       "      <td>19</td>\n",
       "    </tr>\n",
       "    <tr>\n",
       "      <th>2</th>\n",
       "      <td>0</td>\n",
       "      <td>np-700 mistake: do not buy this product--this ...</td>\n",
       "      <td>80</td>\n",
       "      <td>0</td>\n",
       "      <td>np-700 mistake: do not buy this product--this ...</td>\n",
       "      <td>np-700 mistake: do not buy this product--this ...</td>\n",
       "      <td>[np-700, mistake, :, do, not, buy, this, produ...</td>\n",
       "      <td>[np-700, mistake, do, not, buy, this, product,...</td>\n",
       "      <td>n p - 0 0 0   m i s t a k e   d o   n o t   b ...</td>\n",
       "      <td>[np-700, mistake, buy, product, --, price, ene...</td>\n",
       "      <td>[(np-700, JJ), (mistake, NN), (buy, NN), (prod...</td>\n",
       "      <td>[(np-700, a), (mistake, n), (buy, n), (product...</td>\n",
       "      <td>[np-700, mistake, buy, product, --, price, ene...</td>\n",
       "      <td>41</td>\n",
       "    </tr>\n",
       "  </tbody>\n",
       "</table>\n",
       "</div>"
      ],
      "text/plain": [
       "   good_review                                         review_raw  \\\n",
       "0            1  a different view of blink 182: if you bought t...   \n",
       "1            1  a holiday classic: this was one of my favorite...   \n",
       "2            0  np-700 mistake: do not buy this product--this ...   \n",
       "\n",
       "   preclean_len  with_url                                        url_replace  \\\n",
       "0            44         0  a different view of blink 182: if you bought t...   \n",
       "1            41         0  a holiday classic: this was one of my favorite...   \n",
       "2            80         0  np-700 mistake: do not buy this product--this ...   \n",
       "\n",
       "                                         not_contrac  \\\n",
       "0  a different view of blink 182: if you bought t...   \n",
       "1  a holiday classic: this was one of my favorite...   \n",
       "2  np-700 mistake: do not buy this product--this ...   \n",
       "\n",
       "                                           tokenized  \\\n",
       "0  [a, different, view, of, blink, 182, :, if, yo...   \n",
       "1  [a, holiday, classic, :, this, was, one, of, m...   \n",
       "2  [np-700, mistake, :, do, not, buy, this, produ...   \n",
       "\n",
       "                                             no_punc  \\\n",
       "0  [a, different, view, of, blink, 182, if, you, ...   \n",
       "1  [a, holiday, classic, this, was, one, of, my, ...   \n",
       "2  [np-700, mistake, do, not, buy, this, product,...   \n",
       "\n",
       "                                       digit_replace  \\\n",
       "0  a   d i f f e r e n t   v i e w   o f   b l i ...   \n",
       "1  a   h o l i d a y   c l a s s i c   t h i s   ...   \n",
       "2  n p - 0 0 0   m i s t a k e   d o   n o t   b ...   \n",
       "\n",
       "                                       rmv_stopwords  \\\n",
       "0  [different, view, blink, 182, bought, cd, buyi...   \n",
       "1  [holiday, classic, one, favorite, holiday, sto...   \n",
       "2  [np-700, mistake, buy, product, --, price, ene...   \n",
       "\n",
       "                                             pos_tag  \\\n",
       "0  [(different, JJ), (view, NN), (blink, VBP), (1...   \n",
       "1  [(holiday, NN), (classic, JJ), (one, CD), (fav...   \n",
       "2  [(np-700, JJ), (mistake, NN), (buy, NN), (prod...   \n",
       "\n",
       "                                             wnl_pos  \\\n",
       "0  [(different, a), (view, n), (blink, v), (182, ...   \n",
       "1  [(holiday, n), (classic, a), (one, None), (fav...   \n",
       "2  [(np-700, a), (mistake, n), (buy, n), (product...   \n",
       "\n",
       "                                          lemmatized  postclean_len  \n",
       "0  [different, view, blink, 182, buy, cd, buy, en...             21  \n",
       "1  [holiday, classic, one, favorite, holiday, sto...             19  \n",
       "2  [np-700, mistake, buy, product, --, price, ene...             41  "
      ]
     },
     "execution_count": 14,
     "metadata": {},
     "output_type": "execute_result"
    }
   ],
   "source": [
    "#post-cleaning, word count by doc\n",
    "\n",
    "train_df['postclean_len'] = train_df['lemmatized'].apply(lambda x: len(x))\n",
    "test_df['postclean_len'] = test_df['lemmatized'].apply(lambda x: len(x))\n",
    "train_df.head(3)"
   ]
  },
  {
   "cell_type": "code",
   "execution_count": 15,
   "metadata": {},
   "outputs": [
    {
     "data": {
      "image/png": "[encoded data removed]",
      "text/plain": [
       "<Figure size 436.675x360 with 1 Axes>"
      ]
     },
     "metadata": {},
     "output_type": "display_data"
    }
   ],
   "source": [
    "ax = sns.displot(data = train_df, x = 'postclean_len', hue = 'good_review', kind = 'kde')\n",
    "ax.fig.suptitle(\"Post-cleaned review distribution\", fontdict={\"weight\": \"bold\"})\n",
    "ax.set(xlabel='Review Type', ylabel = 'Phrases')\n",
    "ax.legend.set_title(\"Review Type\")\n",
    "new_labels = ['Negative', 'Positive']\n",
    "for t, l in zip(ax._legend.texts, new_labels): t.set_text(l)"
   ]
  },
  {
   "cell_type": "code",
   "execution_count": 16,
   "metadata": {},
   "outputs": [
    {
     "data": {
      "text/plain": [
       "<seaborn.axisgrid.FacetGrid at 0x20c2841c550>"
      ]
     },
     "execution_count": 16,
     "metadata": {},
     "output_type": "execute_result"
    },
    {
     "data": {
      "image/png": "[encoded data removed]",
      "text/plain": [
       "<Figure size 360x360 with 1 Axes>"
      ]
     },
     "metadata": {},
     "output_type": "display_data"
    }
   ],
   "source": [
    "ax = sns.catplot(data = train_df, y = 'postclean_len', palette = \"Set2\",x = 'good_review', kind = 'violin')\n",
    "ax.fig.suptitle(\"Post-cleaned review distribution\", fontdict={\"weight\": \"bold\"})\n",
    "ax.set_axis_labels(x_var=\"Review Type\", y_var=\"Review Length\")\n",
    "ax.set(xticklabels=[\"Negative\",\"Positive\"])"
   ]
  },
  {
   "cell_type": "code",
   "execution_count": 17,
   "metadata": {},
   "outputs": [
    {
     "name": "stdout",
     "output_type": "stream",
     "text": [
      "stats for positive reviews:\n",
      "mean: 42.84, median 39.0, max words: 162, min words: 5\n",
      "None\n",
      "\n",
      "stats for positive reviews\n",
      "mean: 40.32, median 35.0, max words: 175, min words: 5\n",
      "None\n"
     ]
    }
   ],
   "source": [
    "#post-clean datat stats by review type\n",
    "print('stats for positive reviews:')\n",
    "print(list_stats(train_df.loc[train_df['good_review']==0]['postclean_len']))\n",
    "print()\n",
    "print('stats for positive reviews')\n",
    "print(list_stats(train_df.loc[train_df['good_review']==1]['postclean_len']))"
   ]
  },
  {
   "cell_type": "code",
   "execution_count": 18,
   "metadata": {},
   "outputs": [
    {
     "data": {
      "text/html": [
       "<div>\n",
       "<style scoped>\n",
       "    .dataframe tbody tr th:only-of-type {\n",
       "        vertical-align: middle;\n",
       "    }\n",
       "\n",
       "    .dataframe tbody tr th {\n",
       "        vertical-align: top;\n",
       "    }\n",
       "\n",
       "    .dataframe thead th {\n",
       "        text-align: right;\n",
       "    }\n",
       "</style>\n",
       "<table border=\"1\" class=\"dataframe\">\n",
       "  <thead>\n",
       "    <tr style=\"text-align: right;\">\n",
       "      <th></th>\n",
       "      <th>good_review</th>\n",
       "      <th>postclean_len</th>\n",
       "      <th>lemmatized</th>\n",
       "      <th>lemm_sent</th>\n",
       "      <th>review_type</th>\n",
       "    </tr>\n",
       "  </thead>\n",
       "  <tbody>\n",
       "    <tr>\n",
       "      <th>0</th>\n",
       "      <td>1</td>\n",
       "      <td>21</td>\n",
       "      <td>[different, view, blink, 182, buy, cd, buy, en...</td>\n",
       "      <td>different view blink 182 buy cd buy enema stat...</td>\n",
       "      <td>good</td>\n",
       "    </tr>\n",
       "    <tr>\n",
       "      <th>1</th>\n",
       "      <td>1</td>\n",
       "      <td>19</td>\n",
       "      <td>[holiday, classic, one, favorite, holiday, sto...</td>\n",
       "      <td>holiday classic one favorite holiday story chi...</td>\n",
       "      <td>good</td>\n",
       "    </tr>\n",
       "    <tr>\n",
       "      <th>2</th>\n",
       "      <td>0</td>\n",
       "      <td>41</td>\n",
       "      <td>[np-700, mistake, buy, product, --, price, ene...</td>\n",
       "      <td>np-700 mistake buy product -- price energizer ...</td>\n",
       "      <td>bad</td>\n",
       "    </tr>\n",
       "  </tbody>\n",
       "</table>\n",
       "</div>"
      ],
      "text/plain": [
       "   good_review  postclean_len  \\\n",
       "0            1             21   \n",
       "1            1             19   \n",
       "2            0             41   \n",
       "\n",
       "                                          lemmatized  \\\n",
       "0  [different, view, blink, 182, buy, cd, buy, en...   \n",
       "1  [holiday, classic, one, favorite, holiday, sto...   \n",
       "2  [np-700, mistake, buy, product, --, price, ene...   \n",
       "\n",
       "                                           lemm_sent review_type  \n",
       "0  different view blink 182 buy cd buy enema stat...        good  \n",
       "1  holiday classic one favorite holiday story chi...        good  \n",
       "2  np-700 mistake buy product -- price energizer ...         bad  "
      ]
     },
     "execution_count": 18,
     "metadata": {},
     "output_type": "execute_result"
    }
   ],
   "source": [
    "#join tokenized words back into sentences\n",
    "train_df['sentences'] = train_df['lemmatized'].apply(lambda x: ' '.join(x))\n",
    "train_df['sentences'] = train_df['lemmatized'].apply(lambda x: ' '.join(x))\n",
    "\n",
    "#new df with cleaned words and sentences\n",
    "df_train = train_df.loc[:,['good_review', 'postclean_len','lemmatized']]\n",
    "df_test = test_df.loc[:,['good_review', 'postclean_len','lemmatized']]\n",
    "\n",
    "#lemmatized sentences\n",
    "df_train['lemm_sent'] = df_train['lemmatized'].apply(lambda x: ' '.join(x))\n",
    "df_test['lemm_sent'] = df_test['lemmatized'].apply(lambda x: ' '.join(x))\n",
    "\n",
    "#identify in english review type\n",
    "df_train['review_type'] = df_train.good_review.map({0:'bad', 1:'good'})\n",
    "df_test['review_type'] = df_test.good_review.map({0:'bad', 1:'good'})\n",
    "\n",
    "df_train.head(3)"
   ]
  },
  {
   "cell_type": "code",
   "execution_count": 19,
   "metadata": {},
   "outputs": [
    {
     "data": {
      "text/plain": [
       "bad     45217\n",
       "good    44783\n",
       "Name: review_type, dtype: int64"
      ]
     },
     "execution_count": 19,
     "metadata": {},
     "output_type": "execute_result"
    }
   ],
   "source": [
    "#Check data distribution\n",
    "df_train.review_type.value_counts()\n",
    "#review's distribution appears equal / uniform"
   ]
  },
  {
   "cell_type": "code",
   "execution_count": 20,
   "metadata": {},
   "outputs": [
    {
     "data": {
      "text/html": [
       "<div>\n",
       "<style scoped>\n",
       "    .dataframe tbody tr th:only-of-type {\n",
       "        vertical-align: middle;\n",
       "    }\n",
       "\n",
       "    .dataframe tbody tr th {\n",
       "        vertical-align: top;\n",
       "    }\n",
       "\n",
       "    .dataframe thead th {\n",
       "        text-align: right;\n",
       "    }\n",
       "</style>\n",
       "<table border=\"1\" class=\"dataframe\">\n",
       "  <thead>\n",
       "    <tr style=\"text-align: right;\">\n",
       "      <th></th>\n",
       "      <th>text</th>\n",
       "      <th>val</th>\n",
       "      <th>label</th>\n",
       "    </tr>\n",
       "  </thead>\n",
       "  <tbody>\n",
       "    <tr>\n",
       "      <th>0</th>\n",
       "      <td>different view blink 182 buy cd buy enema stat...</td>\n",
       "      <td>1</td>\n",
       "      <td>good</td>\n",
       "    </tr>\n",
       "    <tr>\n",
       "      <th>1</th>\n",
       "      <td>holiday classic one favorite holiday story chi...</td>\n",
       "      <td>1</td>\n",
       "      <td>good</td>\n",
       "    </tr>\n",
       "    <tr>\n",
       "      <th>2</th>\n",
       "      <td>np-700 mistake buy product -- price energizer ...</td>\n",
       "      <td>0</td>\n",
       "      <td>bad</td>\n",
       "    </tr>\n",
       "  </tbody>\n",
       "</table>\n",
       "</div>"
      ],
      "text/plain": [
       "                                                text  val label\n",
       "0  different view blink 182 buy cd buy enema stat...    1  good\n",
       "1  holiday classic one favorite holiday story chi...    1  good\n",
       "2  np-700 mistake buy product -- price energizer ...    0   bad"
      ]
     },
     "execution_count": 20,
     "metadata": {},
     "output_type": "execute_result"
    }
   ],
   "source": [
    "#create a final dataframe of relevant relevant columns\n",
    "final_train = df_train[:][['lemm_sent','good_review', 'review_type']]\n",
    "final_test = df_test[:][['lemm_sent','good_review', 'review_type']]\n",
    "\n",
    "final_train.columns = ['text', 'val', 'label']\n",
    "final_test.columns = ['text', 'val', 'label']\n",
    "\n",
    "final_train.head(3)"
   ]
  },
  {
   "cell_type": "markdown",
   "metadata": {},
   "source": [
    "# Hyper-Parameter Tuning"
   ]
  },
  {
   "cell_type": "code",
   "execution_count": 21,
   "metadata": {},
   "outputs": [
    {
     "data": {
      "text/plain": [
       "Pipeline(steps=[('tfidf', TfidfVectorizer()),\n",
       "                ('lr', LogisticRegression(max_iter=20000))])"
      ]
     },
     "execution_count": 21,
     "metadata": {},
     "output_type": "execute_result"
    }
   ],
   "source": [
    "#test train split\n",
    "X, y = final_train.text, final_train.label\n",
    "X_train, X_test, y_train, y_test = train_test_split(X, y, test_size = 0.2, random_state=rand_seed)\n",
    "\n",
    "\n",
    "#pipeline setup\n",
    "tfidf_bnb_pipe = Pipeline([\n",
    "    ('tfidf', TfidfVectorizer()),\n",
    "    ('bnb', BernoulliNB())\n",
    "    ])\n",
    "\n",
    "tfidf_lr_pipe = Pipeline([\n",
    "    ('tfidf', TfidfVectorizer()),\n",
    "    ('lr', LogisticRegression(max_iter = 20000, random_state=rand_seed))\n",
    "    ])\n",
    "#fit data into pipeline\n",
    "tfidf_bnb_pipe.fit(X_train, y_train)\n",
    "tfidf_lr_pipe.fit(X_train,y_train)"
   ]
  },
  {
   "cell_type": "code",
   "execution_count": 22,
   "metadata": {},
   "outputs": [],
   "source": [
    "#Parameters of each pipeline for gridsearch\n",
    "bnb_tfidf_params= {\n",
    "    'tfidf__ngram_range':((1,1), (1,2), (1,3)),\n",
    "    \"tfidf__max_features\":(5000, 10000, 12000),\n",
    "    'tfidf__use_idf': (True, False),\n",
    "    \"bnb__alpha\" : (.2, .4, .8, .9, 1.0)\n",
    "    }\n",
    "\n",
    "lr_tfidf_params= {\n",
    "    'tfidf__ngram_range':((1,1), (1,2)),\n",
    "    \"tfidf__max_features\":(5000, 10000, 12000),\n",
    "    'tfidf__use_idf': (True, False),\n",
    "    'lr__C': (0.1,0.5, 1, 2),\n",
    "    'lr__penalty': ['none','l2']\n",
    "    }\n"
   ]
  },
  {
   "cell_type": "code",
   "execution_count": 23,
   "metadata": {},
   "outputs": [],
   "source": [
    "#TFIDF Vectorizer Grid Search\n",
    "gsearch_tfidf_bnb = GridSearchCV(tfidf_bnb_pipe, param_grid=bnb_tfidf_params,\n",
    "                                 cv = 3, verbose = 1, n_jobs = -1)\n",
    "gsearch_tfidf_lr = GridSearchCV(tfidf_lr_pipe, param_grid=lr_tfidf_params,\n",
    "                                 cv = 3, verbose = 1, n_jobs = -1)"
   ]
  },
  {
   "cell_type": "code",
   "execution_count": 24,
   "metadata": {},
   "outputs": [
    {
     "name": "stdout",
     "output_type": "stream",
     "text": [
      "Fitting 3 folds for each of 90 candidates, totalling 270 fits\n"
     ]
    },
    {
     "name": "stderr",
     "output_type": "stream",
     "text": [
      "[Parallel(n_jobs=-1)]: Using backend LokyBackend with 8 concurrent workers.\n",
      "[Parallel(n_jobs=-1)]: Done  34 tasks      | elapsed:  1.7min\n",
      "[Parallel(n_jobs=-1)]: Done 184 tasks      | elapsed:  8.4min\n",
      "[Parallel(n_jobs=-1)]: Done 270 out of 270 | elapsed: 12.2min finished\n"
     ]
    },
    {
     "name": "stdout",
     "output_type": "stream",
     "text": [
      "GridSearch Best Params: \n",
      "{'bnb__alpha': 0.2, 'tfidf__max_features': 12000, 'tfidf__ngram_range': (1, 2), 'tfidf__use_idf': True}\n",
      "\n",
      "Overall Accuracy: \n",
      "0.8506944444444445\n"
     ]
    }
   ],
   "source": [
    "#fit training data into grid search for best params\n",
    "#Best Param with Bernoulli Naive Bayes, TFIDF Vectorization\n",
    "\n",
    "gsearch_tfidf_bnb.fit(X_train,y_train)\n",
    "\n",
    "print(\"GridSearch Best Params: \")\n",
    "print(gsearch_tfidf_bnb.best_params_)\n",
    "print()\n",
    "print('Overall Accuracy: '.format(gsearch_tfidf_bnb.best_score_))\n",
    "print(gsearch_tfidf_bnb.best_score_)\n"
   ]
  },
  {
   "cell_type": "code",
   "execution_count": 25,
   "metadata": {},
   "outputs": [
    {
     "name": "stdout",
     "output_type": "stream",
     "text": [
      "Fitting 3 folds for each of 96 candidates, totalling 288 fits\n"
     ]
    },
    {
     "name": "stderr",
     "output_type": "stream",
     "text": [
      "[Parallel(n_jobs=-1)]: Using backend LokyBackend with 8 concurrent workers.\n",
      "[Parallel(n_jobs=-1)]: Done  34 tasks      | elapsed:  7.9min\n",
      "[Parallel(n_jobs=-1)]: Done 184 tasks      | elapsed: 31.9min\n",
      "[Parallel(n_jobs=-1)]: Done 288 out of 288 | elapsed: 47.1min finished\n"
     ]
    },
    {
     "name": "stdout",
     "output_type": "stream",
     "text": [
      "GridSearch Best Params: \n",
      "{'lr__C': 2, 'lr__penalty': 'l2', 'tfidf__max_features': 12000, 'tfidf__ngram_range': (1, 2), 'tfidf__use_idf': True}\n",
      "\n",
      "Overall Accuracy: \n",
      "0.8816666666666667\n"
     ]
    }
   ],
   "source": [
    "#Results Param with Logistic Regression, TFIDF Vectorization   \n",
    "\n",
    "gsearch_tfidf_lr.fit(X_train,y_train)\n",
    "\n",
    "print(\"GridSearch Best Params: \")\n",
    "print(gsearch_tfidf_lr.best_params_)\n",
    "print()\n",
    "print('Overall Accuracy: ')\n",
    "print(gsearch_tfidf_lr.best_score_)\n"
   ]
  },
  {
   "cell_type": "markdown",
   "metadata": {},
   "source": [
    "# Model Training"
   ]
  },
  {
   "cell_type": "markdown",
   "metadata": {},
   "source": [
    "### One Fold: Bernoulli Naive Bayes Model"
   ]
  },
  {
   "cell_type": "code",
   "execution_count": 38,
   "metadata": {},
   "outputs": [
    {
     "name": "stdout",
     "output_type": "stream",
     "text": [
      "Wall time: 7.97 s\n",
      "Wall time: 577 ms\n",
      "Overall Accuracy Score:  0.8518888888888889\n",
      "\n",
      "Confusion Matrix: \n",
      "[[3731  768]\n",
      " [ 565 3936]]\n",
      "\n",
      "Classification Report: \n",
      "              precision    recall  f1-score   support\n",
      "\n",
      "           0       0.87      0.83      0.85      4499\n",
      "           1       0.84      0.87      0.86      4501\n",
      "\n",
      "    accuracy                           0.85      9000\n",
      "   macro avg       0.85      0.85      0.85      9000\n",
      "weighted avg       0.85      0.85      0.85      9000\n",
      "\n"
     ]
    }
   ],
   "source": [
    "#TFIDFVectorizer BNB Training\n",
    "tfidf_bnb_pipe = Pipeline([\n",
    "    ('tfidf', TfidfVectorizer(max_df=1.00, use_idf= True,\n",
    "                              max_features=12000, ngram_range = (1,2))),\n",
    "    ('bnb', BernoulliNB(alpha = 0.2))\n",
    "    ])\n",
    "\n",
    "%time tfidf_bnb_pipe.fit(X_train, y_train)\n",
    "%time predict = tfidf_bnb_pipe.predict(X_test)\n",
    "\n",
    "print('Overall Accuracy Score: ',metrics.accuracy_score(y_test, predict))\n",
    "print()\n",
    "print('Confusion Matrix: ')\n",
    "print(confusion_matrix(y_test, predict))\n",
    "print()\n",
    "print('Classification Report: ')\n",
    "print(classification_report(y_test, predict))        "
   ]
  },
  {
   "cell_type": "markdown",
   "metadata": {},
   "source": [
    "### One- Fold: Linear Regression Model"
   ]
  },
  {
   "cell_type": "code",
   "execution_count": 39,
   "metadata": {},
   "outputs": [
    {
     "name": "stdout",
     "output_type": "stream",
     "text": [
      "Wall time: 9.58 s\n",
      "Wall time: 573 ms\n",
      "Overall Accuracy Score:  0.8891111111111111\n",
      "\n",
      "Confusion Matrix: \n",
      "[[3986  513]\n",
      " [ 485 4016]]\n",
      "\n",
      "Classification Report: \n",
      "              precision    recall  f1-score   support\n",
      "\n",
      "           0       0.89      0.89      0.89      4499\n",
      "           1       0.89      0.89      0.89      4501\n",
      "\n",
      "    accuracy                           0.89      9000\n",
      "   macro avg       0.89      0.89      0.89      9000\n",
      "weighted avg       0.89      0.89      0.89      9000\n",
      "\n"
     ]
    }
   ],
   "source": [
    "tfidf_lr_pipe = Pipeline([\n",
    "    ('tfidf', TfidfVectorizer( max_df=1.00, use_idf= True,\n",
    "                              max_features=12000, ngram_range = (1,2))),\n",
    "    ('lr', LogisticRegression(max_iter = 20000, random_state=rand_seed,\n",
    "                              C = 2, penalty = 'l2'))\n",
    "    ])\n",
    "\n",
    "%time tfidf_lr_pipe.fit(X_train, y_train)\n",
    "%time predict = tfidf_lr_pipe.predict(X_test)\n",
    "\n",
    "print('Overall Accuracy Score: ',metrics.accuracy_score(y_test, predict))\n",
    "print()\n",
    "print('Confusion Matrix: ')\n",
    "print(confusion_matrix(y_test, predict))\n",
    "print()\n",
    "print('Classification Report: ')\n",
    "print(classification_report(y_test, predict))   "
   ]
  },
  {
   "cell_type": "markdown",
   "metadata": {},
   "source": [
    "## Ten-Fold Cross Validation"
   ]
  },
  {
   "cell_type": "code",
   "execution_count": 29,
   "metadata": {},
   "outputs": [],
   "source": [
    "#run 10 fold cross validation on training data\n",
    "kf = KFold(n_splits=10, shuffle=True, random_state=rand_seed)"
   ]
  },
  {
   "cell_type": "markdown",
   "metadata": {},
   "source": [
    "### Ten-Fold: Bernoulli Naive Bayes Model"
   ]
  },
  {
   "cell_type": "code",
   "execution_count": 40,
   "metadata": {},
   "outputs": [
    {
     "name": "stdout",
     "output_type": "stream",
     "text": [
      "\n",
      "Overall Score: 0.85\n",
      "\n",
      "Confusion Matrix: \n",
      "\n",
      "Classification Report: \n",
      "              precision    recall  f1-score   support\n",
      "\n",
      "           0       0.87      0.82      0.84      4493\n",
      "           1       0.83      0.87      0.85      4507\n",
      "\n",
      "    accuracy                           0.85      9000\n",
      "   macro avg       0.85      0.85      0.85      9000\n",
      "weighted avg       0.85      0.85      0.85      9000\n",
      "\n"
     ]
    }
   ],
   "source": [
    "#BernoulliNB 10 fold cross validation\n",
    "scores = []\n",
    "confusion = np.array([[0,0], [0,0]])\n",
    "\n",
    "tfidf_bnb_pipe = Pipeline([\n",
    "    ('tfidf', TfidfVectorizer(min_df = 0.00, max_df=1.00, max_features=10000, ngram_range = (1,2))),\n",
    "    ('bnb', BernoulliNB(alpha = 0.2))\n",
    "    ])\n",
    "\n",
    "for train_indices, test_indices in kf.split(final_train):\n",
    "    X_train = final_train.iloc[train_indices]['text']\n",
    "    y_train = final_train.iloc[train_indices]['val']\n",
    "    \n",
    "    X_test = final_train.iloc[test_indices]['text']\n",
    "    y_test = final_train.iloc[test_indices]['val']\n",
    "     \n",
    "    tfidf_bnb_pipe.fit(X_train, y_train)    \n",
    "    predict = tfidf_bnb_pipe.predict(X_test)    \n",
    "    \n",
    "    confusion += confusion_matrix(y_test, predict)\n",
    "    # print(confusion)\n",
    "    score = f1_score(y_test, predict)\n",
    "    scores.append(score)\n",
    "print()\n",
    "print('Overall Score:',round(sum(scores)/len(scores),2))\n",
    "print()\n",
    "print('Confusion Matrix: ')\n",
    "print()\n",
    "print('Classification Report: ')\n",
    "print(classification_report(y_test, predict))"
   ]
  },
  {
   "cell_type": "markdown",
   "metadata": {},
   "source": [
    "### Ten-Fold: Logistic Regression Model"
   ]
  },
  {
   "cell_type": "code",
   "execution_count": 31,
   "metadata": {},
   "outputs": [
    {
     "name": "stdout",
     "output_type": "stream",
     "text": [
      "\n",
      "Overall Score: 0.89\n",
      "\n",
      "Confusion Matrix: \n",
      "\n",
      "Classification Report: \n",
      "              precision    recall  f1-score   support\n",
      "\n",
      "           0       0.89      0.89      0.89      4499\n",
      "           1       0.89      0.89      0.89      4501\n",
      "\n",
      "    accuracy                           0.89      9000\n",
      "   macro avg       0.89      0.89      0.89      9000\n",
      "weighted avg       0.89      0.89      0.89      9000\n",
      "\n"
     ]
    }
   ],
   "source": [
    "scores = []\n",
    "confusion = np.array([[0,0], [0,0]])\n",
    "\n",
    "tfidf_lr_pipe = Pipeline([\n",
    "    ('tfidf', TfidfVectorizer(min_df = 0.00, max_df=1.00, use_idf= True,\n",
    "                              max_features=12000, ngram_range = (1,2))),\n",
    "    ('lr', LogisticRegression(max_iter = 20000, random_state=rand_seed,\n",
    "                              C = 2, penalty = 'l2'))\n",
    "    ])\n",
    "\n",
    "for train_indices, test_indices in kf.split(final_train):\n",
    "    X_train = final_train.iloc[train_indices]['text']\n",
    "    y_train = final_train.iloc[train_indices]['val']\n",
    "    \n",
    "    X_test = final_train.iloc[test_indices]['text']\n",
    "    y_test = final_train.iloc[test_indices]['val']\n",
    "     \n",
    "    tfidf_lr_pipe.fit(X_train, y_train)    \n",
    "    predict = tfidf_lr_pipe.predict(X_test)    \n",
    "    \n",
    "    confusion += confusion_matrix(y_test, predict)\n",
    "    # print(confusion)\n",
    "    score = f1_score(y_test, predict)\n",
    "    scores.append(score)\n",
    "print()\n",
    "print('Overall Score:',round(sum(scores)/len(scores),2))\n",
    "print()\n",
    "print('Confusion Matrix: ')\n",
    "# print(confusion)\n",
    "print()\n",
    "print('Classification Report: ')\n",
    "print(classification_report(y_test, predict))"
   ]
  },
  {
   "cell_type": "markdown",
   "metadata": {},
   "source": [
    "# Accuracy against testing dataset"
   ]
  },
  {
   "cell_type": "code",
   "execution_count": 32,
   "metadata": {},
   "outputs": [],
   "source": [
    "#Separate training and testing data\n",
    "final_X_train, final_y_train = final_train.text, final_train.label\n",
    "final_X_test, final_y_test = final_test.text, final_test.label"
   ]
  },
  {
   "cell_type": "markdown",
   "metadata": {},
   "source": [
    "### BernoulliNB TFIDF Vectorization"
   ]
  },
  {
   "cell_type": "code",
   "execution_count": 33,
   "metadata": {},
   "outputs": [
    {
     "name": "stdout",
     "output_type": "stream",
     "text": [
      "Wall time: 10.2 s\n",
      "Wall time: 724 ms\n",
      "\n",
      "Test Set Accuracy Score:  0.8511\n",
      "\n",
      "Confusion Matrix: \n",
      "[[4149  850]\n",
      " [ 639 4362]]\n",
      "\n",
      "Classification Report: \n",
      "              precision    recall  f1-score   support\n",
      "\n",
      "         bad       0.87      0.83      0.85      4999\n",
      "        good       0.84      0.87      0.85      5001\n",
      "\n",
      "    accuracy                           0.85     10000\n",
      "   macro avg       0.85      0.85      0.85     10000\n",
      "weighted avg       0.85      0.85      0.85     10000\n",
      "\n"
     ]
    }
   ],
   "source": [
    "%time tfidf_bnb_pipe.fit(final_X_train, final_y_train)\n",
    "%time predict = tfidf_bnb_pipe.predict(final_X_test)\n",
    "print()\n",
    "print('Test Set Accuracy Score: ',metrics.accuracy_score(final_y_test, predict))\n",
    "print()\n",
    "print('Confusion Matrix: ')\n",
    "print(confusion_matrix(final_y_test, predict))\n",
    "print()\n",
    "print('Classification Report: ')\n",
    "print(classification_report(final_y_test, predict))  "
   ]
  },
  {
   "cell_type": "markdown",
   "metadata": {},
   "source": [
    "### Logistic Regression TFIDF Vectorizations"
   ]
  },
  {
   "cell_type": "code",
   "execution_count": 34,
   "metadata": {},
   "outputs": [
    {
     "name": "stdout",
     "output_type": "stream",
     "text": [
      "Wall time: 12.4 s\n",
      "Wall time: 761 ms\n",
      "\n",
      "Test Set Accuracy Score:  0.8879\n",
      "\n",
      "Confusion Matrix: \n",
      "[[4417  582]\n",
      " [ 539 4462]]\n",
      "\n",
      "Classification Report: \n",
      "              precision    recall  f1-score   support\n",
      "\n",
      "         bad       0.89      0.88      0.89      4999\n",
      "        good       0.88      0.89      0.89      5001\n",
      "\n",
      "    accuracy                           0.89     10000\n",
      "   macro avg       0.89      0.89      0.89     10000\n",
      "weighted avg       0.89      0.89      0.89     10000\n",
      "\n"
     ]
    }
   ],
   "source": [
    "%time tfidf_lr_pipe.fit(final_X_train, final_y_train)\n",
    "%time predict = tfidf_lr_pipe.predict(final_X_test)\n",
    "print()\n",
    "print('Test Set Accuracy Score: ',metrics.accuracy_score(final_y_test, predict))\n",
    "print()\n",
    "print('Confusion Matrix: ')\n",
    "print(confusion_matrix(final_y_test, predict))\n",
    "print()\n",
    "print('Classification Report: ')\n",
    "print(classification_report(final_y_test, predict))  "
   ]
  },
  {
   "cell_type": "markdown",
   "metadata": {},
   "source": [
    "## Display top phrases by review type"
   ]
  },
  {
   "cell_type": "code",
   "execution_count": 35,
   "metadata": {},
   "outputs": [],
   "source": [
    "# grouped_reviews(final_train)\n",
    "good_train_rev, good_train_label = final_train.loc[final_train.val == 1].text, final_train.loc[final_train.val == 1].label\n",
    "bad_train_rev, bad_train_label = final_train.loc[final_train.val == 0].text, final_train.loc[final_train.val == 0].label\n",
    "\n",
    "# Identify most important phrases\n",
    "def word_importance(vectorizer,classifier,n=20):\n",
    "    # self._vectorizer = vectorizer\n",
    "    #class_labels = classifier.coef_\n",
    "    feature_names = vectorizer.get_feature_names()\n",
    "\n",
    "    topn_class1 = sorted(zip(classifier.feature_count_[0], feature_names),reverse=True)[:n]\n",
    "    topn_class2 = sorted(zip(classifier.feature_count_[1], feature_names),reverse=True)[:n]\n",
    "\n",
    "    class1_frequency_dict = {}\n",
    "    class2_frequency_dict = {}\n",
    "    \n",
    "    for coef, feat in topn_class1:\n",
    "        class1_frequency_dict.update( {feat : coef} )\n",
    "\n",
    "    for coef, feat in topn_class2:\n",
    "        class2_frequency_dict.update( {feat : coef} )\n",
    "\n",
    "    return (class1_frequency_dict, class2_frequency_dict)"
   ]
  },
  {
   "cell_type": "code",
   "execution_count": 50,
   "metadata": {},
   "outputs": [],
   "source": [
    "#models with optimal parameters\n",
    "tfidf = TfidfVectorizer(min_df = 0.00, max_df=1.00, max_features=10000, ngram_range = (2,3))\n",
    "bnb = BernoulliNB(alpha = 0.4)"
   ]
  },
  {
   "cell_type": "markdown",
   "metadata": {},
   "source": [
    "### Top N most frequent Terms"
   ]
  },
  {
   "cell_type": "code",
   "execution_count": 51,
   "metadata": {
    "scrolled": true
   },
   "outputs": [
    {
     "data": {
      "image/png": "[encoded data removed]",
      "text/plain": [
       "<Figure size 432x288 with 1 Axes>"
      ]
     },
     "metadata": {},
     "output_type": "display_data"
    }
   ],
   "source": [
    "#display most frequent terms by review\n",
    "doc = tfidf.fit_transform(good_train_rev)\n",
    "\n",
    "bnb.fit(doc, good_train_label)\n",
    "\n",
    "positive_frequency_dict, pos_frequency_dict = word_importance(tfidf, bnb)\n",
    "positive_feature_freq = pd.DataFrame(positive_frequency_dict.items(), columns = [\"feature_word\", \"frequency\"])  \n",
    "pos_feature_freq = pd.DataFrame(pos_frequency_dict.items(), columns = [\"feature_word\", \"frequency\"])  \n",
    "\n",
    "ax = sns.barplot(x = 'frequency', y = 'feature_word',palette=\"Blues_d\", data = positive_feature_freq)\n",
    "ax.set_title('Frequent Positive Terms')\n",
    "ax.set(xlabel='Frequency', ylabel = 'Phrase')\n",
    "plt.show()\n",
    "ax.clear() \n"
   ]
  },
  {
   "cell_type": "code",
   "execution_count": 52,
   "metadata": {},
   "outputs": [
    {
     "data": {
      "image/png": "[encoded data removed]",
      "text/plain": [
       "<Figure size 432x288 with 1 Axes>"
      ]
     },
     "metadata": {},
     "output_type": "display_data"
    }
   ],
   "source": [
    "negative_train_rev, negative_train_val = final_train.loc[final_train.val == 0].text, final_train.loc[final_train.val == 0].val\n",
    "docs = tfidf.fit_transform(negative_train_rev)\n",
    "bnb.fit(docs, negative_train_val)\n",
    "\n",
    "negative_frequency_dict, pos_frequency_dict = word_importance(tfidf, bnb)\n",
    "negative_feature_freq = pd.DataFrame(negative_frequency_dict.items(), columns = [\"feature_word\", \"frequency\"])  \n",
    "pos_feature_freq = pd.DataFrame(pos_frequency_dict.items(), columns = [\"feature_word\", \"frequency\"])  \n",
    "\n",
    "ax = sns.barplot(x = 'frequency', y = 'feature_word', palette=\"Blues_d\",data = negative_feature_freq)\n",
    "ax.set_title('Frequent Negative Terms')\n",
    "ax.set(xlabel='Frequency', ylabel = 'Phrase')\n",
    "plt.show()\n",
    "ax.clear() "
   ]
  },
  {
   "cell_type": "markdown",
   "metadata": {},
   "source": [
    "### TFIDF Top N Terms"
   ]
  },
  {
   "cell_type": "code",
   "execution_count": 53,
   "metadata": {},
   "outputs": [
    {
     "data": {
      "image/png": "[encoded data removed]",
      "text/plain": [
       "<Figure size 432x288 with 1 Axes>"
      ]
     },
     "metadata": {},
     "output_type": "display_data"
    }
   ],
   "source": [
    "tfidf.fit(good_train_rev)\n",
    "list_good = dict(zip(tfidf.get_feature_names(), tfidf.idf_))\n",
    "list_good = pd.DataFrame.from_dict(list_good, orient='index')\n",
    "list_good.reset_index(inplace = True)\n",
    "list_good = list_good.rename(columns = {'index': 'phrases', 0:'tfidf_score'})\n",
    "list_good = list_good.sort_values(by = ['tfidf_score'], ascending = False)\n",
    "\n",
    "ax = sns.barplot(x = 'tfidf_score', y = 'phrases', palette=\"magma\",data = list_good.head(15))\n",
    "ax.set_title('Top TFIDF Positive Bigrams or Trigrams')\n",
    "ax.set(xlabel='Score', ylabel = 'Phrases')\n",
    "plt.show()\n",
    "ax.clear() "
   ]
  },
  {
   "cell_type": "code",
   "execution_count": 54,
   "metadata": {},
   "outputs": [
    {
     "data": {
      "image/png": "[encoded data removed]",
      "text/plain": [
       "<Figure size 432x288 with 1 Axes>"
      ]
     },
     "metadata": {},
     "output_type": "display_data"
    }
   ],
   "source": [
    "tfidf.fit(bad_train_rev)\n",
    "list_bad = dict(zip(tfidf.get_feature_names(), tfidf.idf_))\n",
    "list_bad = pd.DataFrame.from_dict(list_bad, orient='index')\n",
    "list_bad.reset_index(inplace = True)\n",
    "list_bad = list_bad.rename(columns = {'index': 'phrases', 0:'tfidf_score'})\n",
    "list_bad = list_bad.sort_values(by = ['tfidf_score'], ascending = False)\n",
    "\n",
    "ax = sns.barplot(x = 'tfidf_score', y = 'phrases',palette=\"magma\", data = list_bad.head(15))\n",
    "ax.set_title('Top TFIDF Negative Bigrams or Trigrams')\n",
    "ax.set(xlabel='Score', ylabel = 'Phrases')\n",
    "plt.show()\n",
    "ax.clear()"
   ]
  },
  {
   "cell_type": "code",
   "execution_count": null,
   "metadata": {},
   "outputs": [],
   "source": []
  }
 ],
 "metadata": {
  "kernelspec": {
   "display_name": "Python 3",
   "language": "python",
   "name": "python3"
  },
  "language_info": {
   "codemirror_mode": {
    "name": "ipython",
    "version": 3
   },
   "file_extension": ".py",
   "mimetype": "text/x-python",
   "name": "python",
   "nbconvert_exporter": "python",
   "pygments_lexer": "ipython3",
   "version": "3.8.3"
  }
 },
 "nbformat": 4,
 "nbformat_minor": 4
}
